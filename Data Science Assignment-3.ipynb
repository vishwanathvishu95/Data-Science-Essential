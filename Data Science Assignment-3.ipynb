{
 "cells": [
  {
   "cell_type": "markdown",
   "metadata": {},
   "source": [
    "# Assignment-3"
   ]
  },
  {
   "cell_type": "markdown",
   "metadata": {},
   "source": [
    "# Questions 1:\n",
    "\n",
    "# Create a numpy array starting from 2 till 50 with a stepsize of 3."
   ]
  },
  {
   "cell_type": "code",
   "execution_count": 1,
   "metadata": {},
   "outputs": [
    {
     "name": "stdout",
     "output_type": "stream",
     "text": [
      "[ 2  5  8 11 14 17 20 23 26 29 32 35 38 41 44 47 50]\n"
     ]
    }
   ],
   "source": [
    "import numpy as np\n",
    "arr=np.arange(2,51,3)\n",
    "print(arr)"
   ]
  },
  {
   "cell_type": "markdown",
   "metadata": {},
   "source": [
    "# Questions 2:\n",
    "\n",
    "# Accept two lists of 5 elements each from the user.\n",
    "\n",
    "# Convert them to numpy arrays. Concatenate these arrays and print it. Also sort these arrays and print it.\n"
   ]
  },
  {
   "cell_type": "code",
   "execution_count": 2,
   "metadata": {},
   "outputs": [
    {
     "name": "stdout",
     "output_type": "stream",
     "text": [
      "11\n",
      "12\n",
      "13\n",
      "14\n",
      "15\n",
      "[11, 12, 13, 14, 15]\n",
      "\n",
      "16\n",
      "17\n",
      "18\n",
      "19\n",
      "20\n",
      "[16, 17, 18, 19, 20]\n",
      "\n",
      "[11 12 13 14 15 16 17 18 19 20]\n",
      "[11 12 13 14 15 16 17 18 19 20]\n"
     ]
    }
   ],
   "source": [
    "list1=[]\n",
    "for i in range(5):\n",
    "    x=int(input())\n",
    "    list1.append(x)\n",
    "print(list1)\n",
    "print()\n",
    "\n",
    "list2=[]\n",
    "for i in range(5):\n",
    "    y=int(input())\n",
    "    list2.append(y)\n",
    "print(list2)\n",
    "print()\n",
    "\n",
    "arr1 = np.array(list1)\n",
    "arr2 = np.array(list2)\n",
    "arr3 = np.concatenate( (arr1,arr2) )\n",
    "print(arr3)\n",
    "print(np.sort(arr3))"
   ]
  },
  {
   "cell_type": "markdown",
   "metadata": {},
   "source": [
    "# Questions 3:\n",
    "\n",
    "# Write a code snippet to find the dimensions of a ndarray and its size."
   ]
  },
  {
   "cell_type": "code",
   "execution_count": 5,
   "metadata": {},
   "outputs": [
    {
     "name": "stdout",
     "output_type": "stream",
     "text": [
      "Number of dimensions 2\n",
      "The shape of the dimension (5, 3)\n",
      "Size of array 15\n"
     ]
    }
   ],
   "source": [
    "a = np.array([[11,12,13],[13,14,15],[15,16,17],[17,18,19],[19,20,21]])\n",
    "print(\"Number of dimensions\",a.ndim)\n",
    "print(\"The shape of the dimension\",a.shape)\n",
    "print(\"Size of array\",a.size)"
   ]
  },
  {
   "cell_type": "markdown",
   "metadata": {},
   "source": [
    "# Questions 4:\n",
    "\n",
    "# How to convert a 1D array into a 2D array? Demonstrate with the help of a code snippet\n",
    "\n",
    "# Hint: np.newaxis, np.expand_dims"
   ]
  },
  {
   "cell_type": "code",
   "execution_count": 7,
   "metadata": {},
   "outputs": [
    {
     "name": "stdout",
     "output_type": "stream",
     "text": [
      "[18 19 15 16 14 13 12 11 17]\n",
      "(9,)\n",
      "\n",
      "[[18 19 15 16 14 13 12 11 17]]\n",
      "(1, 9)\n"
     ]
    }
   ],
   "source": [
    "a_1d = np.array([18,19,15,16,14,13,12,11,17])\n",
    "a_2d = a_1d[np.newaxis]\n",
    "a2 = np.expand_dims(a_1d, axis=(1,-2,3))\n",
    "a2.shape\n",
    "\n",
    "print(a_1d)\n",
    "print(a_1d.shape)\n",
    "print()\n",
    "print(a_2d)\n",
    "print(a_2d.shape)"
   ]
  },
  {
   "cell_type": "markdown",
   "metadata": {},
   "source": [
    "# Questions 5:\n",
    "\n",
    "# Consider two square numpy arrays. Stack them vertically and horizontally.\n",
    "\n",
    "# Hint: Use vstack(), hstack()"
   ]
  },
  {
   "cell_type": "code",
   "execution_count": 8,
   "metadata": {},
   "outputs": [
    {
     "name": "stdout",
     "output_type": "stream",
     "text": [
      "Vertical Stack\n",
      "[[8 7]\n",
      " [4 3]\n",
      " [9 7]\n",
      " [2 5]\n",
      " [3 7]\n",
      " [8 6]]\n",
      "\n",
      "Horizontal Stack\n",
      "[[8 7 2 5]\n",
      " [4 3 3 7]\n",
      " [9 7 8 6]]\n"
     ]
    }
   ],
   "source": [
    "v = np.array([[8,7],[4,3],[9,7]])\n",
    "h = np.array([[2,5],[3,7],[8,6]])\n",
    "\n",
    "print(\"Vertical Stack\")\n",
    "print(np.vstack((v,h)))\n",
    "print()\n",
    "print(\"Horizontal Stack\")\n",
    "print(np.hstack((v,h)))"
   ]
  },
  {
   "cell_type": "markdown",
   "metadata": {},
   "source": [
    "# Questions 6:\n",
    "\n",
    "# How to get unique items and counts of unique items."
   ]
  },
  {
   "cell_type": "code",
   "execution_count": 11,
   "metadata": {},
   "outputs": [
    {
     "name": "stdout",
     "output_type": "stream",
     "text": [
      "Unique Items: [ 1  2  3  4  5  6  7  8  9 33 37 44 54 55 62 72 88 96]\n",
      "Unique Items Count: [2 2 2 2 2 3 1 1 1 1 2 2 1 1 1 1 1 1]\n"
     ]
    }
   ],
   "source": [
    "x = np.array([1,2,3,5,4,2,72,3,5,6,8,54,6,7,9,62,44,96,6,37,55,33,88,44,37,1,4])\n",
    "unique, count = np.unique(x, return_counts = True)\n",
    "print(\"Unique Items:\",unique)\n",
    "print(\"Unique Items Count:\",count)"
   ]
  },
  {
   "cell_type": "code",
   "execution_count": null,
   "metadata": {},
   "outputs": [],
   "source": []
  }
 ],
 "metadata": {
  "kernelspec": {
   "display_name": "Python 3",
   "language": "python",
   "name": "python3"
  },
  "language_info": {
   "codemirror_mode": {
    "name": "ipython",
    "version": 3
   },
   "file_extension": ".py",
   "mimetype": "text/x-python",
   "name": "python",
   "nbconvert_exporter": "python",
   "pygments_lexer": "ipython3",
   "version": "3.7.6"
  }
 },
 "nbformat": 4,
 "nbformat_minor": 4
}
