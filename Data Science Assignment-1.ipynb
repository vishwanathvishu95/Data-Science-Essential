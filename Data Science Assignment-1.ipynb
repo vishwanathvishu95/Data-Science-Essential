{
 "cells": [
  {
   "cell_type": "markdown",
   "metadata": {},
   "source": [
    "# Data Science Assignment-1"
   ]
  },
  {
   "cell_type": "markdown",
   "metadata": {},
   "source": [
    "# Questions 1:\n",
    "\n",
    "# Given the following jumbled word, OBANWRI guess the correct English word.\n",
    "\n",
    "# A. RANIBOW\n",
    "\n",
    "# B. RAINBOW\n",
    "\n",
    "# C. BOWRANI\n",
    "\n",
    "# D. ROBWANI"
   ]
  },
  {
   "cell_type": "code",
   "execution_count": 2,
   "metadata": {},
   "outputs": [
    {
     "name": "stdout",
     "output_type": "stream",
     "text": [
      "RAINBOW\n"
     ]
    }
   ],
   "source": [
    "correctword = \"RAINBOW\"\n",
    "list = [\"RANIBOW\",\"RAINBOW\",\"BOWRANI\",\"ROBWANI\"]\n",
    "for i in list:\n",
    "    \n",
    "    if(i == correctword):\n",
    "        print(\"RAINBOW\")"
   ]
  },
  {
   "cell_type": "markdown",
   "metadata": {},
   "source": [
    "# Questions 2:\n",
    "\n",
    "# Write a program which prints “LETS UPGRADE”. (Please note that you have to print in ALL CAPS as given)"
   ]
  },
  {
   "cell_type": "code",
   "execution_count": 3,
   "metadata": {},
   "outputs": [
    {
     "name": "stdout",
     "output_type": "stream",
     "text": [
      "LETSUPGRADE\n"
     ]
    }
   ],
   "source": [
    "a=\"LETSUPGRADE\"\n",
    "print(a)\n"
   ]
  },
  {
   "cell_type": "markdown",
   "metadata": {},
   "source": [
    "# Questions 3:\n",
    "\n",
    "# Write a program that takes cost price and selling price as input and displays whether the transaction is a\n",
    "\n",
    "# Profit or a Loss or Neither.\n",
    "\n",
    "# INPUT FORMAT\n",
    "\n",
    "# The first line contains the cost price.\n",
    "\n",
    "# The second line contains the selling price.\n",
    "\n",
    "# OUTPUT FORMAT\n",
    "\n",
    "# Print \"Profit\" if the transaction is a profit or \"Loss\" if it is a loss. If it is neither\n",
    "\n",
    "# profit nor loss, print \"Neither\". (You must not have quotes in your output)"
   ]
  },
  {
   "cell_type": "code",
   "execution_count": 4,
   "metadata": {},
   "outputs": [
    {
     "name": "stdout",
     "output_type": "stream",
     "text": [
      "80\n",
      "150\n",
      "gain\n"
     ]
    }
   ],
   "source": [
    "costprice = int(input())\n",
    "sellingprice = int(input())\n",
    "\n",
    "profit = sellingprice - costprice \n",
    "loss = costprice - sellingprice\n",
    "\n",
    "if profit > loss:\n",
    "    print(\"gain\")\n",
    "elif loss > profit:\n",
    "    print(\"Loss\")\n",
    "else:\n",
    "    print(\"Neither\")\n"
   ]
  },
  {
   "cell_type": "markdown",
   "metadata": {},
   "source": [
    "# Questions 4:\n",
    "\n",
    "# Write a program that takes an amount in Indian Rupees as input. You need to find its equivalent in Euro and display it. Assume 1 Euro equals Rs. 80.\n",
    "\n",
    "# Please note that you are expected to stick to the given input and output format as in sample test cases. Please don't add any extra lines such as 'Enter a number', etc.\n",
    "\n",
    "# Your program should take only one number as input and display the output.\n"
   ]
  },
  {
   "cell_type": "code",
   "execution_count": 5,
   "metadata": {},
   "outputs": [
    {
     "name": "stdout",
     "output_type": "stream",
     "text": [
      "72\n",
      "5760\n"
     ]
    }
   ],
   "source": [
    "rupee = int(input())\n",
    "euro = rupee * 80\n",
    "print(euro)\n"
   ]
  },
  {
   "cell_type": "code",
   "execution_count": 6,
   "metadata": {},
   "outputs": [
    {
     "name": "stdout",
     "output_type": "stream",
     "text": [
      "95\n",
      "7600\n"
     ]
    }
   ],
   "source": [
    "rupee = int(input())\n",
    "euro = rupee * 80\n",
    "print(euro)\n"
   ]
  },
  {
   "cell_type": "code",
   "execution_count": null,
   "metadata": {},
   "outputs": [],
   "source": []
  }
 ],
 "metadata": {
  "kernelspec": {
   "display_name": "Python 3",
   "language": "python",
   "name": "python3"
  },
  "language_info": {
   "codemirror_mode": {
    "name": "ipython",
    "version": 3
   },
   "file_extension": ".py",
   "mimetype": "text/x-python",
   "name": "python",
   "nbconvert_exporter": "python",
   "pygments_lexer": "ipython3",
   "version": "3.7.6"
  }
 },
 "nbformat": 4,
 "nbformat_minor": 4
}
