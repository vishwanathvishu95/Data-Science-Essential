{
 "cells": [
  {
   "cell_type": "markdown",
   "metadata": {},
   "source": [
    "# Data Science Assignment-2"
   ]
  },
  {
   "cell_type": "markdown",
   "metadata": {},
   "source": [
    "# Question1:\n",
    "\n",
    "# Create an empty list. Accept 10 numbers from the user and append to it the list if it is an even number. "
   ]
  },
  {
   "cell_type": "code",
   "execution_count": 1,
   "metadata": {},
   "outputs": [
    {
     "name": "stdout",
     "output_type": "stream",
     "text": [
      "Enter number 1 : 2\n",
      "Enter number 2 : 6\n",
      "Enter number 3 : 10\n",
      "Enter number 4 : 22\n",
      "Enter number 5 : 33\n",
      "Enter number 6 : 56\n",
      "Enter number 7 : 78\n",
      "Enter number 8 : 94\n",
      "Enter number 9 : 84\n",
      "Enter number 10 : 48\n",
      "Final Lst: [2, 6, 10, 22, 56, 78, 94, 84, 48]\n"
     ]
    }
   ],
   "source": [
    "empty_lst = []\n",
    "for i in range(10):\n",
    "    num = int(input(\"Enter number \" + str(i+1) + \" : \"))\n",
    "    if(num%2 == 0):\n",
    "        empty_lst.append(num)\n",
    "print(\"Final Lst:\",empty_lst)\n"
   ]
  },
  {
   "cell_type": "markdown",
   "metadata": {},
   "source": [
    "# Question2:\n",
    "\n",
    "# Create a notebook on LIST COMPREHENSION. This exercise is to put you in a Self learning mode."
   ]
  },
  {
   "cell_type": "code",
   "execution_count": 3,
   "metadata": {},
   "outputs": [
    {
     "name": "stdout",
     "output_type": "stream",
     "text": [
      "['V', 'i', 's', 'h', 'w', 'a', 'n', 'a', 't', 'h']\n",
      "['V', 'i', 's', 'h', 'w', 'a', 'n', 'a', 't', 'h']\n",
      "[0, 8, 16]\n"
     ]
    }
   ],
   "source": [
    "name = [letter for letter in 'Vishwanath' ]\n",
    "print(name)\n",
    "\n",
    "name1 = list(map(lambda x: x, 'Vishwanath'))\n",
    "print(name1)\n",
    "\n",
    "numbers = [x for x in range(20) if x % 8 == 0]\n",
    "print(numbers)"
   ]
  },
  {
   "cell_type": "markdown",
   "metadata": {},
   "source": [
    "# Question3:\n",
    "\n",
    "# You have seen in the videos how powerful dictionary data structure is.\n",
    "\n",
    "# In this assignment, given a number n, you have to \n",
    "\n",
    "# write a program that generates a dictionary d which contains (i, i*i), where i is from 1 to n (both included).\n",
    "\n",
    "# Then you have to just print this dictionary d.\n",
    "\n",
    "# Example:Input: 4will give output as {1: 1, 2: 4, 3: 9, 4: 16}\n",
    "\n",
    "# Input Format:Take the number n in a single line.\n",
    "\n",
    "# Output Format:Print the dictionary d in a single line."
   ]
  },
  {
   "cell_type": "code",
   "execution_count": 4,
   "metadata": {},
   "outputs": [
    {
     "name": "stdout",
     "output_type": "stream",
     "text": [
      "4\n",
      "{1: 1, 2: 4, 3: 9, 4: 16}\n"
     ]
    }
   ],
   "source": [
    "x = int(input())\n",
    "dictionary = {y:y*y for y in range(1,x+1)}\n",
    "print(dictionary)"
   ]
  },
  {
   "cell_type": "code",
   "execution_count": 5,
   "metadata": {},
   "outputs": [
    {
     "name": "stdout",
     "output_type": "stream",
     "text": [
      "8\n",
      "{1: 1, 2: 4, 3: 9, 4: 16, 5: 25, 6: 36, 7: 49, 8: 64}\n"
     ]
    }
   ],
   "source": [
    "x = int(input())\n",
    "dictionary = {y:y*y for y in range(1,x+1)}\n",
    "print(dictionary)"
   ]
  },
  {
   "cell_type": "markdown",
   "metadata": {},
   "source": [
    "# Question4:\n",
    "\n",
    "# There is a robot which wants to go the charging point to charge itself.\n",
    "\n",
    "# The robot moves in a 2-D plane from the original point (0,0).\n",
    "\n",
    "# The robot can move toward UP, DOWN, LEFT and RIGHT with given steps.\n",
    "\n",
    "# The trace of robot movement is shown as the following: UP 5 DOWN 3 LEFT 3 RIGHT 2\n",
    "\n",
    "# Then, the output of the program should be:\n",
    "\n",
    "# 2 The numbers after the direction are steps.\n",
    "\n",
    "# Write a program to compute the distance between the current position after a sequence of movement and original point.\n",
    "\n",
    "# If the distance is a float, then just print the nearest integer (use round() function for that and then convert it into an integer).\n",
    "\n",
    "# Input Format: The first line of the input contains a number n which implies the number of directions to be given.\n",
    "\n",
    "# The next n lines contain the direction and the step separated by a space. \n",
    "\n",
    "# Output Format: Print the distance from the original position to the current position."
   ]
  },
  {
   "cell_type": "code",
   "execution_count": 6,
   "metadata": {},
   "outputs": [
    {
     "name": "stdout",
     "output_type": "stream",
     "text": [
      "4\n",
      "UP 5\n",
      "DOWN 3\n",
      "LEFT 3\n",
      "RIGHT 2\n",
      "2\n"
     ]
    }
   ],
   "source": [
    "import math\n",
    "directions = int(input())\n",
    "x, y = 0, 0 \n",
    "x1, y1 = 0, 0\n",
    "for i in range(directions):\n",
    "    way, steps = map(str, input().strip().split(' '))\n",
    "    if(way == 'UP'):\n",
    "        y1 += int(steps)\n",
    "    elif (way == 'DOWN'):\n",
    "        y1 -= int(steps)\n",
    "    elif(way == 'LEFT'):\n",
    "        x1 -= int(steps)\n",
    "    elif(way == 'RIGHT'):\n",
    "        x1 += int(steps)\n",
    "\n",
    "print(round(math.sqrt((x1**2) + (y1**2))))"
   ]
  },
  {
   "cell_type": "code",
   "execution_count": null,
   "metadata": {},
   "outputs": [],
   "source": []
  }
 ],
 "metadata": {
  "kernelspec": {
   "display_name": "Python 3",
   "language": "python",
   "name": "python3"
  },
  "language_info": {
   "codemirror_mode": {
    "name": "ipython",
    "version": 3
   },
   "file_extension": ".py",
   "mimetype": "text/x-python",
   "name": "python",
   "nbconvert_exporter": "python",
   "pygments_lexer": "ipython3",
   "version": "3.7.6"
  }
 },
 "nbformat": 4,
 "nbformat_minor": 4
}
